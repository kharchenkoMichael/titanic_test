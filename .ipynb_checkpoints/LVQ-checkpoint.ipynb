{
 "cells": [
  {
   "cell_type": "code",
   "execution_count": 2,
   "metadata": {},
   "outputs": [],
   "source": [
    "import numpy as np\n",
    "import math\n",
    "import random"
   ]
  },
  {
   "cell_type": "code",
   "execution_count": 3,
   "metadata": {},
   "outputs": [],
   "source": [
    "class LVQ:\n",
    "    def __init__(self, input_size, neurons_count, classes_count):\n",
    "        self.weights = [np.random.random_sample((input_size, 1)) for _ in range(neurons_count)]\n",
    "        self.classes = []\n",
    "        index = 0\n",
    "        for i in range(neurons_count):\n",
    "            self.classes.append((index % classes_count)/(classes_count - 1))\n",
    "    \n",
    "    def learn(self, training_data, target, learning_rate, max_iter):\n",
    "        step = 0\n",
    "        indexes = np.range(training_data.shape[1])\n",
    "        while step < max_iter:\n",
    "            if step%len(indexes) == 0:\n",
    "                np.random.shuffle(indexes)\n",
    "                \n",
    "            cur_data = training_data.values[indexes[step%len(indexes)]]\n",
    "            cur_y = target.values[indexes[step%len(indexes)]]\n",
    "            \n",
    "            distances = self.distances(cur_data)\n",
    "            min_index = distances.argmin()\n",
    "            \n",
    "            prediction_y =self.classes[min_index]\n",
    "            \n",
    "            learn = learning_rate(step, max_iter)*(cur_data - self.weights[min_index])\n",
    "            if prediction_y == cur_y:\n",
    "                self.weights[min_index] += learn\n",
    "            else:\n",
    "                self.weights[min_index] -= learn\n",
    "            \n",
    "            for i in range(self.weights[min_index].shape[0]):\n",
    "                if self.weights[min_index][i, 0] < 0:\n",
    "                    self.weights[min_index][i, 0] = 0\n",
    "                elif self.weights[min_index][i, 0] > 1:\n",
    "                    self.weights[min_index][i, 0] = 1\n",
    "            \n",
    "            step += 1\n",
    "        self.remove_empty_weights(training_data, target)\n",
    "        \n",
    "    def distances(self, cur_data):\n",
    "        return(np.fromiter(map(lambda weight: sum(v ** 2 for v in cur_data - weight) ** 0.5, self.weights), float))\n",
    "    \n",
    "    def remove_empty_weights(self, training_data, target):\n",
    "        right_count = [0]*len(self.weight)\n",
    "        for i in range(len(training_data.values)):\n",
    "            distances = self.distances(training_data.values[i])\n",
    "            min_index = distances.argmin()\n",
    "            \n",
    "            prediction_y =self.classes[min_index]\n",
    "            if prediction_y == cur_y:\n",
    "                right_count += 1\n",
    "        \n",
    "        remove_list = list(map(lambda value: value[0], filter(lambda value: value[1] == 0, enumerate(right_count))))\n",
    "        del self.weight[remove_list]\n",
    "        del self.classes[remove_list]\n",
    "    \n",
    "    def prediction(self, data):\n",
    "        distances = self.distances(data)\n",
    "        min_index = distances.argmin()\n",
    "            \n",
    "        return self.classes[min_index]\n",
    "    "
   ]
  },
  {
   "cell_type": "code",
   "execution_count": null,
   "metadata": {},
   "outputs": [],
   "source": []
  }
 ],
 "metadata": {
  "kernelspec": {
   "display_name": "Python 3",
   "language": "python",
   "name": "python3"
  },
  "language_info": {
   "codemirror_mode": {
    "name": "ipython",
    "version": 3
   },
   "file_extension": ".py",
   "mimetype": "text/x-python",
   "name": "python",
   "nbconvert_exporter": "python",
   "pygments_lexer": "ipython3",
   "version": "3.7.1"
  }
 },
 "nbformat": 4,
 "nbformat_minor": 2
}
